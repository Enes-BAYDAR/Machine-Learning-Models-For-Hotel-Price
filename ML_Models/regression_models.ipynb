{
 "cells": [
  {
   "cell_type": "markdown",
   "id": "a29399c0-4a51-4f9f-bc5b-3700219a52dd",
   "metadata": {},
   "source": [
    "# Load The Data"
   ]
  },
  {
   "cell_type": "code",
   "execution_count": 2,
   "id": "0fb1ae77-0853-4297-a864-aff3f2f9a2be",
   "metadata": {},
   "outputs": [],
   "source": [
    "import pandas as pd\n",
    "import numpy as np\n",
    "import matplotlib.pyplot as plt\n",
    "import seaborn as sns\n",
    "from sklearn.model_selection import train_test_split\n",
    "\n",
    "import optuna\n",
    "from sklearn.preprocessing import StandardScaler\n",
    "from sklearn.model_selection import cross_val_score\n",
    "import logging\n",
    "\n",
    "from sklearn.pipeline import Pipeline\n",
    "from sklearn.ensemble import GradientBoostingRegressor\n",
    "from sklearn.linear_model import Lasso\n",
    "from sklearn.preprocessing import PolynomialFeatures\n",
    "from sklearn.neighbors import KNeighborsRegressor\n",
    "\n",
    "from sklearn.metrics import mean_squared_error\n",
    "from sklearn.metrics import r2_score\n",
    "from sklearn.metrics import mean_absolute_error"
   ]
  },
  {
   "cell_type": "code",
   "execution_count": 3,
   "id": "4d87aa67-0d9d-4da6-bfb3-b81c703fa25c",
   "metadata": {},
   "outputs": [
    {
     "data": {
      "text/html": [
       "<div>\n",
       "<style scoped>\n",
       "    .dataframe tbody tr th:only-of-type {\n",
       "        vertical-align: middle;\n",
       "    }\n",
       "\n",
       "    .dataframe tbody tr th {\n",
       "        vertical-align: top;\n",
       "    }\n",
       "\n",
       "    .dataframe thead th {\n",
       "        text-align: right;\n",
       "    }\n",
       "</style>\n",
       "<table border=\"1\" class=\"dataframe\">\n",
       "  <thead>\n",
       "    <tr style=\"text-align: right;\">\n",
       "      <th></th>\n",
       "      <th>Customer_Rating</th>\n",
       "      <th>Number_of_Stars</th>\n",
       "      <th>Price</th>\n",
       "      <th>Accommodation_Score</th>\n",
       "      <th>City_Antalya</th>\n",
       "      <th>City_Balıkesir</th>\n",
       "      <th>City_Muğla</th>\n",
       "      <th>City_Others</th>\n",
       "    </tr>\n",
       "  </thead>\n",
       "  <tbody>\n",
       "    <tr>\n",
       "      <th>0</th>\n",
       "      <td>8.4</td>\n",
       "      <td>4</td>\n",
       "      <td>601.910</td>\n",
       "      <td>50</td>\n",
       "      <td>1</td>\n",
       "      <td>0</td>\n",
       "      <td>0</td>\n",
       "      <td>0</td>\n",
       "    </tr>\n",
       "    <tr>\n",
       "      <th>1</th>\n",
       "      <td>9.5</td>\n",
       "      <td>5</td>\n",
       "      <td>452.574</td>\n",
       "      <td>85</td>\n",
       "      <td>1</td>\n",
       "      <td>0</td>\n",
       "      <td>0</td>\n",
       "      <td>0</td>\n",
       "    </tr>\n",
       "    <tr>\n",
       "      <th>2</th>\n",
       "      <td>9.4</td>\n",
       "      <td>5</td>\n",
       "      <td>441.000</td>\n",
       "      <td>95</td>\n",
       "      <td>1</td>\n",
       "      <td>0</td>\n",
       "      <td>0</td>\n",
       "      <td>0</td>\n",
       "    </tr>\n",
       "  </tbody>\n",
       "</table>\n",
       "</div>"
      ],
      "text/plain": [
       "   Customer_Rating  Number_of_Stars    Price  Accommodation_Score  \\\n",
       "0              8.4                4  601.910                   50   \n",
       "1              9.5                5  452.574                   85   \n",
       "2              9.4                5  441.000                   95   \n",
       "\n",
       "   City_Antalya  City_Balıkesir  City_Muğla  City_Others  \n",
       "0             1               0           0            0  \n",
       "1             1               0           0            0  \n",
       "2             1               0           0            0  "
      ]
     },
     "execution_count": 3,
     "metadata": {},
     "output_type": "execute_result"
    }
   ],
   "source": [
    "df = pd.read_csv(\"data_for_ml.csv\")\n",
    "df.head(3)"
   ]
  },
  {
   "cell_type": "markdown",
   "id": "8051bad1-7bbf-489c-bcef-4aa4de42035b",
   "metadata": {},
   "source": [
    "# Target, Feautures and Train-Test"
   ]
  },
  {
   "cell_type": "code",
   "execution_count": 4,
   "id": "a9c53c36-1244-455b-bd70-b26007af810d",
   "metadata": {},
   "outputs": [],
   "source": [
    "y=df.pop(\"Price\")"
   ]
  },
  {
   "cell_type": "code",
   "execution_count": 5,
   "id": "91487154-ddeb-4b4a-bbdf-841e30a4489c",
   "metadata": {},
   "outputs": [],
   "source": [
    "X = df"
   ]
  },
  {
   "cell_type": "code",
   "execution_count": 6,
   "id": "78707081-0d31-464a-a71e-458e7723419b",
   "metadata": {},
   "outputs": [],
   "source": [
    "X_train, X_test, y_train, y_test = train_test_split(X, y, test_size=0.2, random_state=44)"
   ]
  },
  {
   "cell_type": "raw",
   "id": "6f1f0ce0-42f4-474e-9c7c-a04310e8f30a",
   "metadata": {},
   "source": [
    "The 3 models that performed best on this data were: KNN Regression - Gradient Boosting Regression - Lasso Regression"
   ]
  },
  {
   "cell_type": "markdown",
   "id": "e22b947d-5e0f-4986-a950-fe118c14c6f4",
   "metadata": {},
   "source": [
    "# Gradient Boosting Regression"
   ]
  },
  {
   "cell_type": "code",
   "execution_count": 7,
   "id": "5e33deb8-d77b-4768-8339-8e54aa82cb3e",
   "metadata": {},
   "outputs": [
    {
     "name": "stderr",
     "output_type": "stream",
     "text": [
      "Best trial: 48. Best value: -5394.45: 100%|█████████████████████████| 50/50 [01:39<00:00,  2.00s/it, 99.93/600 seconds]"
     ]
    },
    {
     "name": "stdout",
     "output_type": "stream",
     "text": [
      "Best parameters: {'n_estimators': 318, 'learning_rate': 0.041543828247181544, 'max_depth': 3, 'min_samples_split': 7, 'min_samples_leaf': 11, 'subsample': 0.559120256924569}\n",
      "Best cross-validation MSE: 5394.453242318579\n",
      "CPU times: total: 1min 58s\n",
      "Wall time: 1min 39s\n"
     ]
    },
    {
     "name": "stderr",
     "output_type": "stream",
     "text": [
      "\n"
     ]
    }
   ],
   "source": [
    "%%time\n",
    "\n",
    "optuna.logging.set_verbosity(optuna.logging.WARNING) \n",
    "\n",
    "                                                                                    # Optimization function\n",
    "def objective(trial):\n",
    "                                                                                    # Define the ranges of hyperparameters for GradientBoostingRegressor\n",
    "    n_estimators = trial.suggest_int(\"n_estimators\", 50, 500)\n",
    "    learning_rate = trial.suggest_float(\"learning_rate\", 0.01, 0.5, log=True)\n",
    "    max_depth = trial.suggest_int(\"max_depth\", 1, 10)\n",
    "    min_samples_split = trial.suggest_int(\"min_samples_split\", 2, 20)\n",
    "    min_samples_leaf = trial.suggest_int(\"min_samples_leaf\", 1, 20)\n",
    "    subsample = trial.suggest_float(\"subsample\", 0.5, 1.0)\n",
    "\n",
    "                                                                                    # GradientBoostingRegressor model\n",
    "    model = GradientBoostingRegressor(\n",
    "        n_estimators=n_estimators,\n",
    "        learning_rate=learning_rate,\n",
    "        max_depth=max_depth,\n",
    "        min_samples_split=min_samples_split,\n",
    "        min_samples_leaf=min_samples_leaf,\n",
    "        subsample=subsample,\n",
    "        random_state=44\n",
    "    )\n",
    "\n",
    "                                                                                    # Measure the performance of the model with cross validation\n",
    "    scores = cross_val_score(model, X_train, y_train, cv=10, scoring=\"neg_mean_squared_error\")\n",
    "    return np.mean(scores)\n",
    "\n",
    "                                                                                    # Start optuna\n",
    "study = optuna.create_study(direction=\"maximize\")\n",
    "study.optimize(objective, n_trials=50, timeout=600, n_jobs=-1, show_progress_bar=True)\n",
    "\n",
    "                                                                                    # Best hyperparameters\n",
    "print(\"Best parameters:\", study.best_params)\n",
    "print(\"Best cross-validation MSE:\", -study.best_value)\n",
    "\n",
    "best_params = study.best_params"
   ]
  },
  {
   "cell_type": "code",
   "execution_count": 8,
   "id": "08b54bf7-9898-44b6-bfd7-b2b4d03579f2",
   "metadata": {},
   "outputs": [],
   "source": [
    "gBoost = GradientBoostingRegressor(\n",
    "    n_estimators=best_params[\"n_estimators\"],\n",
    "    learning_rate=best_params[\"learning_rate\"],\n",
    "    max_depth=best_params[\"max_depth\"],\n",
    "    min_samples_split=best_params[\"min_samples_split\"],\n",
    "    min_samples_leaf=best_params[\"min_samples_leaf\"],\n",
    "    subsample=best_params[\"subsample\"],\n",
    "    random_state=44\n",
    ")\n",
    "\n",
    "gBoost.fit(X_train, y_train)\n",
    "y_gBoost_pred = gBoost.predict(X_test)"
   ]
  },
  {
   "cell_type": "code",
   "execution_count": 9,
   "id": "e6f96217-aaa5-484b-b6c7-655826349c00",
   "metadata": {},
   "outputs": [
    {
     "name": "stdout",
     "output_type": "stream",
     "text": [
      "CV:  0.6571431226312717\n",
      "R2_score (train):  0.7900025558450141\n",
      "R2_score (test):  0.7098252750332487\n",
      "MSE:  3679.751726197834\n",
      "RMSE:  60.66095718168181\n",
      "MAE:  39.71778699213151\n",
      "------------------------------------------------\n",
      "[0.86713731 0.60156386 0.64509908 0.56687275 0.29740313 0.809479\n",
      " 0.73243113 0.77421594 0.49905329 0.77817573]\n"
     ]
    }
   ],
   "source": [
    "# PERFORMANCE OF GBOOST \n",
    "\n",
    "#cross valudation\n",
    "from sklearn.model_selection import cross_val_score\n",
    "cv_gBoost = cross_val_score(gBoost, X_train, y_train, cv = 10)   \n",
    "n = cv_gBoost.mean()\n",
    "\n",
    "#r2 score for train\n",
    "from sklearn.metrics import r2_score\n",
    "# r2 score train datası için\n",
    "y_pred_gBoost_train = gBoost.predict(X_train)    \n",
    "r2_score_gBoost_train = r2_score(y_train, y_pred_gBoost_train) \n",
    "\n",
    "# r2 score for test \n",
    "y_pred_gBoost_test = gBoost.predict(X_test)     \n",
    "r2_score_gBoost_test = r2_score(y_test, y_pred_gBoost_test) \n",
    "\n",
    "# Mean Squared Error (MSE)\n",
    "from sklearn.metrics import mean_squared_error\n",
    "mse_gBoost = mean_squared_error(y_test, y_pred_gBoost_test) \n",
    "\n",
    "# Root Mean Squared Error (RMSE)\n",
    "rmse_gBoost = (np.sqrt(mean_squared_error(y_test, y_pred_gBoost_test))) \n",
    "\n",
    "# Mean Absolute Error (MAE)\n",
    "from sklearn.metrics import mean_absolute_error\n",
    "mae_gBoost=  mean_absolute_error(y_test, y_pred_gBoost_test)\n",
    "\n",
    "print(\"CV: \", n)\n",
    "print('R2_score (train): ', r2_score_gBoost_train)\n",
    "print('R2_score (test): ', r2_score_gBoost_test)\n",
    "print(\"MSE: \", mse_gBoost)\n",
    "print(\"RMSE: \", rmse_gBoost)\n",
    "print(\"MAE: \", mae_gBoost)\n",
    "print(\"------------------------------------------------\")\n",
    "print(cv_gBoost) "
   ]
  },
  {
   "cell_type": "markdown",
   "id": "4a57bcbe-b629-41d7-81d4-fc5597c828ca",
   "metadata": {},
   "source": [
    "# Lasso Regression"
   ]
  },
  {
   "cell_type": "code",
   "execution_count": 10,
   "id": "d065c8c8-ba50-4b7b-9f84-306429ac6c4d",
   "metadata": {},
   "outputs": [
    {
     "name": "stderr",
     "output_type": "stream",
     "text": [
      "Best trial: 18. Best value: -4989.57: 100%|█████████████████████████| 50/50 [00:24<00:00,  2.02it/s, 24.69/600 seconds]"
     ]
    },
    {
     "name": "stdout",
     "output_type": "stream",
     "text": [
      "Best parameters: {'degree': 3, 'alpha': 8.044873019606678}\n",
      "Best cross-validation MSE: 4989.572204795409\n",
      "CPU times: total: 40.9 s\n",
      "Wall time: 24.7 s\n"
     ]
    },
    {
     "name": "stderr",
     "output_type": "stream",
     "text": [
      "\n"
     ]
    }
   ],
   "source": [
    "%%time\n",
    "\n",
    "optuna.logging.set_verbosity(optuna.logging.WARNING)\n",
    "                                                                        # Optimization function\n",
    "def objective(trial):\n",
    "                                                                        # Hyperparameters for Polynomial Regression\n",
    "    degree = trial.suggest_int(\"degree\", 1, 3)\n",
    "    alpha = trial.suggest_float(\"alpha\", 1e-3, 10.0, log=True)\n",
    "\n",
    " \n",
    "    model = Pipeline([\n",
    "        ('scaler', StandardScaler()),\n",
    "        (\"poly_features\", PolynomialFeatures(degree=degree, include_bias=False)),\n",
    "        (\"lasso\", Lasso(alpha=alpha, max_iter=1000000))\n",
    "    ])\n",
    "\n",
    "                                                                        # Measure the performance of the model with cross validation\n",
    "    scores = cross_val_score(model, X_train, y_train, cv=10, scoring=\"neg_mean_squared_error\")\n",
    "    return np.mean(scores)\n",
    "\n",
    "                                                                        # Start optuna\n",
    "study = optuna.create_study(direction=\"maximize\")\n",
    "study.optimize(objective, n_trials=50, timeout=600,  n_jobs=-1, show_progress_bar=True)\n",
    "\n",
    "                                                                        # Best hyperparameters\n",
    "print(\"Best parameters:\", study.best_params)\n",
    "print(\"Best cross-validation MSE:\", -study.best_value)\n",
    "\n",
    "best_params = study.best_params"
   ]
  },
  {
   "cell_type": "code",
   "execution_count": 11,
   "id": "0ef25a75-13b1-4633-a249-04952763fce6",
   "metadata": {},
   "outputs": [],
   "source": [
    "lasso = Pipeline([\n",
    "    ('scaler', StandardScaler()),\n",
    "    (\"poly_features\", PolynomialFeatures(degree=best_params[\"degree\"], include_bias=False)),\n",
    "    (\"lasso\", Lasso(alpha=best_params[\"alpha\"], max_iter=10000))\n",
    "])\n",
    "\n",
    "lasso.fit(X_train, y_train)\n",
    "y_lasso_pred= lasso.predict(X_test)"
   ]
  },
  {
   "cell_type": "code",
   "execution_count": 12,
   "id": "5382896b-9c17-495b-b6f5-a3b4be85f902",
   "metadata": {},
   "outputs": [
    {
     "name": "stdout",
     "output_type": "stream",
     "text": [
      "CV:  0.6958043614431475\n",
      "R2_score (train):  0.7217769095682314\n",
      "R2_score (test):  0.6859488171297268\n",
      "MSE:  3982.5328770924943\n",
      "RMSE:  63.10731239002731\n",
      "MAE:  42.733202436458036\n",
      "------------------------------------------------\n",
      "[0.84063741 0.70785064 0.70930593 0.61772447 0.27553417 0.65897503\n",
      " 0.8448448  0.85032258 0.6004235  0.8524251 ]\n"
     ]
    }
   ],
   "source": [
    "# PERFORMANCE OF LASSO\n",
    "\n",
    "#cross valudation\n",
    "from sklearn.model_selection import cross_val_score\n",
    "cv_lasso = cross_val_score(lasso, X_train, y_train, cv = 10) \n",
    "d = cv_lasso.mean()\n",
    "\n",
    "#r2 for train\n",
    "from sklearn.metrics import r2_score\n",
    "# r2 score train datası için\n",
    "y_pred_lasso_train = lasso.predict(X_train)  \n",
    "r2_score_lasso_train = r2_score(y_train, y_pred_lasso_train) \n",
    "\n",
    "# r2 score for test \n",
    "y_pred_lasso_test = lasso.predict(X_test) \n",
    "r2_score_lasso_test = r2_score(y_test, y_pred_lasso_test) \n",
    "\n",
    "# Mean Squared Error (MSE)    \n",
    "from sklearn.metrics import mean_squared_error\n",
    "mse_lasso = mean_squared_error(y_test, y_lasso_pred) \n",
    "\n",
    "# rmse hesaplama      \n",
    "rmse_lasso = (np.sqrt(mean_squared_error(y_test, y_lasso_pred))) \n",
    "\n",
    "# mae  \n",
    "from sklearn.metrics import mean_absolute_error\n",
    "mae_lasso =  mean_absolute_error(y_test, y_lasso_pred)\n",
    "\n",
    "\n",
    "print(\"CV: \", d)\n",
    "print('R2_score (train): ', r2_score_lasso_train)\n",
    "print('R2_score (test): ', r2_score_lasso_test)\n",
    "print(\"MSE: \", mse_lasso)\n",
    "print(\"RMSE: \", rmse_lasso)\n",
    "print(\"MAE: \", mae_lasso)\n",
    "print(\"------------------------------------------------\")\n",
    "print(cv_lasso) "
   ]
  },
  {
   "cell_type": "markdown",
   "id": "a08b618a-856e-4425-b120-6347cfde0826",
   "metadata": {},
   "source": [
    "# KNN Regression"
   ]
  },
  {
   "cell_type": "code",
   "execution_count": 13,
   "id": "26e864a5-06b4-4af1-ae38-e2143ce0ea4d",
   "metadata": {},
   "outputs": [
    {
     "name": "stderr",
     "output_type": "stream",
     "text": [
      "Best trial: 5. Best value: -5095.08: 100%|███████████████████████████| 50/50 [00:03<00:00, 13.59it/s, 3.59/600 seconds]"
     ]
    },
    {
     "name": "stdout",
     "output_type": "stream",
     "text": [
      "Best parameters: {'n_neighbors': 15, 'weights': 'distance', 'p': 2}\n",
      "Best cross-validation MSE: 5095.078681424566\n",
      "CPU times: total: 3.81 s\n",
      "Wall time: 3.68 s\n"
     ]
    },
    {
     "name": "stderr",
     "output_type": "stream",
     "text": [
      "\n"
     ]
    }
   ],
   "source": [
    "%%time\n",
    "\n",
    "optuna.logging.set_verbosity(optuna.logging.WARNING) \n",
    "                                                                            # Optimization function\n",
    "def objective(trial):\n",
    "                                                                            # Ranges of hyperparameters for KNN\n",
    "    n_neighbors = trial.suggest_int(\"n_neighbors\", 1, 30)\n",
    "    weights = trial.suggest_categorical(\"weights\", [\"uniform\", \"distance\"])\n",
    "    p = trial.suggest_int(\"p\", 1, 2)\n",
    "\n",
    "    model = Pipeline([\n",
    "        ('scaler', StandardScaler()),\n",
    "        ('knn', KNeighborsRegressor(\n",
    "        n_neighbors=n_neighbors,\n",
    "        weights=weights,\n",
    "        p=p))\n",
    "    ])\n",
    "\n",
    "                                                                            # Measure the performance of the model with cross validation\n",
    "    scores = cross_val_score(model, X_train, y_train, cv=10, scoring=\"neg_mean_squared_error\")\n",
    "    return np.mean(scores)\n",
    "\n",
    "                                                                            # Start optuna\n",
    "study = optuna.create_study(direction=\"maximize\")\n",
    "study.optimize(objective, n_trials=50, timeout=600, n_jobs=-1, show_progress_bar=True)\n",
    "\n",
    "                                                                            # Best hyperparameters\n",
    "print(\"Best parameters:\", study.best_params)\n",
    "print(\"Best cross-validation MSE:\", -study.best_value)\n",
    "\n",
    "best_params = study.best_params"
   ]
  },
  {
   "cell_type": "code",
   "execution_count": 14,
   "id": "74478cc6-a031-41f9-a50b-b6b9f008d773",
   "metadata": {},
   "outputs": [],
   "source": [
    "knn = Pipeline([\n",
    "    ('scaler', StandardScaler()),\n",
    "    ('knn', KNeighborsRegressor(\n",
    "    n_neighbors=best_params[\"n_neighbors\"],\n",
    "    weights=best_params[\"weights\"],\n",
    "    p=best_params[\"p\"]))\n",
    "\n",
    "    ])\n",
    "\n",
    "knn.fit(X_train, y_train)\n",
    "y_knn_pred = knn.predict(X_test)"
   ]
  },
  {
   "cell_type": "code",
   "execution_count": 15,
   "id": "46f2772d-a6aa-4673-ae81-e984d450ba68",
   "metadata": {},
   "outputs": [
    {
     "name": "stdout",
     "output_type": "stream",
     "text": [
      "CV:  0.6357142475142534\n",
      "R2_score (train):  0.9525615379691883\n",
      "R2_score (test):  0.7047472373998416\n",
      "MSE:  3744.1471271045407\n",
      "RMSE:  61.18943640126571\n",
      "MAE:  40.33007654749041\n",
      "------------------------------------------------\n",
      "[0.71823919 0.65738308 0.48939717 0.53376367 0.50246788 0.56879365\n",
      " 0.85261732 0.76717338 0.50333185 0.76397528]\n"
     ]
    }
   ],
   "source": [
    "# PERFORMANCE OF KNN \n",
    "\n",
    "# cross valudation\n",
    "from sklearn.model_selection import cross_val_score\n",
    "cv_knn = cross_val_score(knn, X_train, y_train, cv = 10)   \n",
    "j = cv_knn.mean()\n",
    "\n",
    "#r2 for train\n",
    "from sklearn.metrics import r2_score\n",
    "# r2 score train datası için\n",
    "y_pred_knn_train = knn.predict(X_train)     # X_train_scaled\n",
    "r2_score_knn_train = r2_score(y_train, y_pred_knn_train) \n",
    "\n",
    "# r2 score for test \n",
    "y_pred_knn_test = knn.predict(X_test)     # # X_test_scaled\n",
    "r2_score_knn_test = r2_score(y_test, y_pred_knn_test) \n",
    "\n",
    "# Mean Squared Error (MSE)\n",
    "from sklearn.metrics import mean_squared_error\n",
    "mse_knn = mean_squared_error(y_test, y_pred_knn_test) \n",
    "\n",
    "# Root Mean Squared Error (RMSE)\n",
    "rmse_knn = (np.sqrt(mean_squared_error(y_test, y_pred_knn_test))) \n",
    "\n",
    "# Mean Absolute Error (MAE)\n",
    "from sklearn.metrics import mean_absolute_error\n",
    "mae_knn=  mean_absolute_error(y_test, y_pred_knn_test)\n",
    "\n",
    "print(\"CV: \", j)\n",
    "print('R2_score (train): ', r2_score_knn_train)\n",
    "print('R2_score (test): ', r2_score_knn_test)\n",
    "print(\"MSE: \", mse_knn)\n",
    "print(\"RMSE: \", rmse_knn)\n",
    "print(\"MAE: \", mae_knn)\n",
    "print(\"------------------------------------------------\")\n",
    "print(cv_knn) "
   ]
  },
  {
   "cell_type": "markdown",
   "id": "fa511b7d-d434-41b1-9864-e73e475e6599",
   "metadata": {},
   "source": [
    "# Hatalar"
   ]
  },
  {
   "cell_type": "code",
   "execution_count": 16,
   "id": "51646dff-56bd-4bbf-8edc-beecd1c7f5ef",
   "metadata": {},
   "outputs": [],
   "source": [
    "models = [('Gradient Boosting Regression', cv_gBoost.mean(), r2_score_gBoost_train, r2_score_gBoost_test, mse_gBoost, rmse_gBoost, mae_gBoost),         \n",
    "          ('Lasso Regression', cv_lasso.mean(), r2_score_lasso_train, r2_score_lasso_test, mse_lasso, rmse_lasso, mae_lasso),\n",
    "          ('KNN Regression', cv_knn.mean(), r2_score_knn_train, r2_score_knn_test, mse_knn, rmse_knn, mae_knn)\n",
    "         ]            "
   ]
  },
  {
   "cell_type": "code",
   "execution_count": 17,
   "id": "cb0acc34-6571-48c4-b72d-02c382f502b7",
   "metadata": {},
   "outputs": [
    {
     "data": {
      "text/html": [
       "<div>\n",
       "<style scoped>\n",
       "    .dataframe tbody tr th:only-of-type {\n",
       "        vertical-align: middle;\n",
       "    }\n",
       "\n",
       "    .dataframe tbody tr th {\n",
       "        vertical-align: top;\n",
       "    }\n",
       "\n",
       "    .dataframe thead th {\n",
       "        text-align: right;\n",
       "    }\n",
       "</style>\n",
       "<table border=\"1\" class=\"dataframe\">\n",
       "  <thead>\n",
       "    <tr style=\"text-align: right;\">\n",
       "      <th></th>\n",
       "      <th>Model</th>\n",
       "      <th>Cross-Validation</th>\n",
       "      <th>R2_Score(training)</th>\n",
       "      <th>R2_Score(test)</th>\n",
       "      <th>MSE</th>\n",
       "      <th>RMSE</th>\n",
       "      <th>MAE</th>\n",
       "    </tr>\n",
       "  </thead>\n",
       "  <tbody>\n",
       "    <tr>\n",
       "      <th>0</th>\n",
       "      <td>Gradient Boosting Regression</td>\n",
       "      <td>0.657143</td>\n",
       "      <td>0.790003</td>\n",
       "      <td>0.709825</td>\n",
       "      <td>3679.751726</td>\n",
       "      <td>60.660957</td>\n",
       "      <td>39.717787</td>\n",
       "    </tr>\n",
       "    <tr>\n",
       "      <th>1</th>\n",
       "      <td>Lasso Regression</td>\n",
       "      <td>0.695804</td>\n",
       "      <td>0.721777</td>\n",
       "      <td>0.685949</td>\n",
       "      <td>3982.532877</td>\n",
       "      <td>63.107312</td>\n",
       "      <td>42.733202</td>\n",
       "    </tr>\n",
       "    <tr>\n",
       "      <th>2</th>\n",
       "      <td>KNN Regression</td>\n",
       "      <td>0.635714</td>\n",
       "      <td>0.952562</td>\n",
       "      <td>0.704747</td>\n",
       "      <td>3744.147127</td>\n",
       "      <td>61.189436</td>\n",
       "      <td>40.330077</td>\n",
       "    </tr>\n",
       "  </tbody>\n",
       "</table>\n",
       "</div>"
      ],
      "text/plain": [
       "                          Model  Cross-Validation  R2_Score(training)  \\\n",
       "0  Gradient Boosting Regression          0.657143            0.790003   \n",
       "1              Lasso Regression          0.695804            0.721777   \n",
       "2                KNN Regression          0.635714            0.952562   \n",
       "\n",
       "   R2_Score(test)          MSE       RMSE        MAE  \n",
       "0        0.709825  3679.751726  60.660957  39.717787  \n",
       "1        0.685949  3982.532877  63.107312  42.733202  \n",
       "2        0.704747  3744.147127  61.189436  40.330077  "
      ]
     },
     "execution_count": 17,
     "metadata": {},
     "output_type": "execute_result"
    }
   ],
   "source": [
    "performance_comparison = pd.DataFrame(models, columns=['Model','Cross-Validation', 'R2_Score(training)', 'R2_Score(test)','MSE', 'RMSE', 'MAE'])\n",
    "performance_comparison"
   ]
  },
  {
   "cell_type": "code",
   "execution_count": 18,
   "id": "c31d9cc7-931d-4d5f-9750-6ab8d0dc1118",
   "metadata": {},
   "outputs": [
    {
     "data": {
      "image/png": "[encoded data removed]",
      "text/plain": [
       "<Figure size 1400x1000 with 4 Axes>"
      ]
     },
     "metadata": {},
     "output_type": "display_data"
    }
   ],
   "source": [
    "# Chart 1: Multiple bar chart to compare all performance metrics\n",
    "fig, axes = plt.subplots(2, 2, figsize=(14, 10))\n",
    "\n",
    "# Cross-Validation scores\n",
    "axes[0, 0].barh(performance_comparison['Model'], performance_comparison['Cross-Validation'], color='lightblue')\n",
    "axes[0, 0].set_title('Cross-Validation Scores')\n",
    "axes[0, 0].set_xlabel('Score')\n",
    "\n",
    "# MSE\n",
    "axes[0, 1].barh(performance_comparison['Model'], performance_comparison['MSE'], color='lightgreen')\n",
    "axes[0, 1].set_title('MSE (Mean Squared Error)')\n",
    "axes[0, 1].set_xlabel('MSE')\n",
    "\n",
    "# RMSE\n",
    "axes[1, 0].barh(performance_comparison['Model'], performance_comparison['RMSE'], color='lightcoral')\n",
    "axes[1, 0].set_title('RMSE (Root Mean Squared Error)')\n",
    "axes[1, 0].set_xlabel('RMSE')\n",
    "\n",
    "# R2 Scores\n",
    "axes[1, 1].barh(performance_comparison['Model'], performance_comparison['R2_Score(training)'], color='pink', label='Training R2')\n",
    "axes[1, 1].barh(performance_comparison['Model'], performance_comparison['R2_Score(test)'], color='yellow', alpha=0.6, label='Test R2')\n",
    "axes[1, 1].set_title('R2 Scores (Training vs Test)')\n",
    "axes[1, 1].set_xlabel('R2 Score')\n",
    "axes[1, 1].legend()\n",
    "\n",
    "plt.tight_layout()\n",
    "plt.show()"
   ]
  },
  {
   "cell_type": "code",
   "execution_count": null,
   "id": "a18c2371-1d36-47b5-aec1-d6ba11e624d5",
   "metadata": {},
   "outputs": [],
   "source": []
  }
 ],
 "metadata": {
  "kernelspec": {
   "display_name": "Python 3 (ipykernel)",
   "language": "python",
   "name": "python3"
  },
  "language_info": {
   "codemirror_mode": {
    "name": "ipython",
    "version": 3
   },
   "file_extension": ".py",
   "mimetype": "text/x-python",
   "name": "python",
   "nbconvert_exporter": "python",
   "pygments_lexer": "ipython3",
   "version": "3.10.4"
  }
 },
 "nbformat": 4,
 "nbformat_minor": 5
}
